{
 "cells": [
  {
   "cell_type": "markdown",
   "metadata": {},
   "source": [
    "# Questions and Answers"
   ]
  },
  {
   "cell_type": "code",
   "execution_count": 521,
   "metadata": {},
   "outputs": [],
   "source": [
    "# Q1: Import datasets from the Data folder from CSV.\n",
    "import pandas as pd\n",
    "\n",
    "customer = pd.read_csv('customer.csv')\n",
    "sales = pd.read_csv('sales.csv')\n",
    "products = pd.read_csv('products.csv')"
   ]
  },
  {
   "cell_type": "code",
   "execution_count": 520,
   "metadata": {},
   "outputs": [
    {
     "name": "stdout",
     "output_type": "stream",
     "text": [
      "8\n"
     ]
    }
   ],
   "source": [
    "# Q2: How many unique products are sold?\n",
    "import pandas as pd\n",
    "\n",
    "print(len(products['product'].unique()))"
   ]
  },
  {
   "cell_type": "code",
   "execution_count": 495,
   "metadata": {},
   "outputs": [
    {
     "name": "stdout",
     "output_type": "stream",
     "text": [
      "['Hard Disk' 'RAM' 'Monitor' 'CPU' 'Keyboard' 'Mouse' 'Motherboard'\n",
      " 'Power supply']\n"
     ]
    }
   ],
   "source": [
    "# Q3: List the unique products sold.\n",
    "import pandas as pd\n",
    "\n",
    "print(products['product'].unique())"
   ]
  },
  {
   "cell_type": "code",
   "execution_count": 496,
   "metadata": {},
   "outputs": [
    {
     "name": "stdout",
     "output_type": "stream",
     "text": [
      "   product  p_id  qty\n",
      "0      CPU     4    1\n",
      "1  Monitor     3   12\n",
      "2      RAM     2    7\n"
     ]
    }
   ],
   "source": [
    "# Q4: List the quantity sold for each product and product id (No Multilevel indexing).\n",
    "import pandas as pd\n",
    "\n",
    "print(sales.groupby(['product', 'p_id'], as_index = False).agg({'qty': 'sum'}))"
   ]
  },
  {
   "cell_type": "code",
   "execution_count": 497,
   "metadata": {},
   "outputs": [
    {
     "name": "stdout",
     "output_type": "stream",
     "text": [
      "   product  price  qty  revenue\n",
      "0      CPU     55    1       55\n",
      "1  Monitor     75   12      900\n",
      "2      RAM     90    7      630\n"
     ]
    }
   ],
   "source": [
    "# Q5: For each product, give the total Quantity sold and the revenue earned from the total sales (price x quantity).\n",
    "import pandas as pd\n",
    "\n",
    "sales_and_product = pd.merge(sales, products[['p_id', 'price']], left_on = \"p_id\", right_on = \"p_id\", how = \"left\")\n",
    "sales_and_product_grped = sales_and_product.groupby(['product', 'price'], as_index = False).agg({'qty':'sum'})\n",
    "sales_and_product_grped['revenue'] = sales_and_product_grped['price'] * sales_and_product_grped['qty']\n",
    "print(sales_and_product_grped)"
   ]
  },
  {
   "cell_type": "code",
   "execution_count": 498,
   "metadata": {},
   "outputs": [
    {
     "name": "stdout",
     "output_type": "stream",
     "text": [
      "  store  product  qty\n",
      "0   ABC  Monitor   10\n",
      "1   ABC      RAM    3\n",
      "2   DEF      CPU    1\n",
      "3   DEF  Monitor    2\n",
      "4   DEF      RAM    4\n"
     ]
    }
   ],
   "source": [
    "# Q6: List of quantity sold against each product and against each store and sort by store and product.\n",
    "import pandas as pd\n",
    "\n",
    "\n",
    "print(sales.groupby(['store', 'product'], as_index = False).agg({'qty':'sum'}).sort_values(by = ['store', 'product']))"
   ]
  },
  {
   "cell_type": "code",
   "execution_count": 499,
   "metadata": {},
   "outputs": [
    {
     "name": "stdout",
     "output_type": "stream",
     "text": [
      "  store  qty  revenue\n",
      "0   ABC   13     1020\n",
      "1   DEF    7      565\n"
     ]
    }
   ],
   "source": [
    "# Q7: List of quantity sold against each Store with total turnover of the store.\n",
    "import pandas as pd\n",
    "\n",
    "\n",
    "sales_and_product = pd.merge(sales, products[['p_id', 'price']], left_on = \"p_id\", right_on = \"p_id\", how = \"left\")\n",
    "sales_and_product_grped = sales_and_product.groupby(['price', 'store'], as_index = False).agg({'qty':'sum'})\n",
    "sales_and_product_grped['revenue'] = sales_and_product_grped['price'] * sales_and_product_grped['qty']\n",
    "print(sales_and_product_grped.groupby(['store'], as_index = False).agg({'qty': 'sum', 'revenue':'sum'}))"
   ]
  },
  {
   "cell_type": "code",
   "execution_count": 500,
   "metadata": {},
   "outputs": [
    {
     "name": "stdout",
     "output_type": "stream",
     "text": [
      "['Hard Disk' 'Keyboard' 'Motherboard' 'Mouse' 'Power supply']\n"
     ]
    }
   ],
   "source": [
    "# Q8: List the products which are not sold.\n",
    "import pandas as pd\n",
    "import numpy as np\n",
    "\n",
    "\n",
    "products_unique = list(products['product'].unique())\n",
    "products_sold = list(sales['product'].unique())\n",
    "print(np.setdiff1d(products_unique, products_sold))"
   ]
  },
  {
   "cell_type": "code",
   "execution_count": 501,
   "metadata": {},
   "outputs": [
    {
     "name": "stdout",
     "output_type": "stream",
     "text": [
      "['Jem' 'King' 'Ronn' 'Tom']\n"
     ]
    }
   ],
   "source": [
    "# Q9: List of customers who have not purchased any product.\n",
    "import pandas as pd\n",
    "import numpy as np\n",
    "\n",
    "\n",
    "customers_purchased = list(pd.merge(sales, customer, left_on = 'c_id', right_on = 'c_id', how = 'left')['Customer'].unique())\n",
    "customers_all = list(customer['Customer'].unique())\n",
    "print(np.setdiff1d(customers_all, customers_purchased))"
   ]
  },
  {
   "cell_type": "code",
   "execution_count": 502,
   "metadata": {},
   "outputs": [
    {
     "name": "stdout",
     "output_type": "stream",
     "text": [
      "   c_id Customer birthday_this_year\n",
      "0     1     Rabi         2020-01-01\n",
      "1     2     Raju         2020-01-02\n",
      "2     3     Alex         2020-01-04\n",
      "3     4     Rani         2020-01-07\n",
      "4     5     King         2020-01-11\n",
      "5     7     Ronn         2020-01-16\n",
      "6     8      Jem         2020-01-23\n",
      "7     9      Tom         2020-01-31\n"
     ]
    },
    {
     "name": "stderr",
     "output_type": "stream",
     "text": [
      "<ipython-input-502-5ceb774da33e>:17: FutureWarning: The pandas.np module is deprecated and will be removed from pandas in a future version. Import numpy directly instead\n",
      "  customer['birthday_this_year'] = customer['start_date'] + pd.to_timedelta(pd.np.ceil(customer.days_to_add), unit=\"D\")\n"
     ]
    }
   ],
   "source": [
    "# Q10: Assign a 'birthday_this_year' column to the customer table where each customer has a birthday associated with them in the yyyy-mm-dd format.\n",
    "# Let c_id = 1 have birthday '2020-01-01', then let the next customer c_id = 2 have a birthday 1 days later than that the birthday of c_id = 1.\n",
    "# Continue in this way such that customer c_id = 3 has their birthday 2 days later than the birthday of c_id = 2 and so on.\n",
    "# Finally, customer c_id = 9 will have their birthday 8 days later than the birthday of c_id = 8.\n",
    "import pandas as pd\n",
    "from datetime import datetime\n",
    "import numpy as np\n",
    "\n",
    "\n",
    "customer['start_date'] = '2020-01-01'\n",
    "customer['start_date'] = pd.to_datetime(customer['start_date'])\n",
    "customer['days_to_add'] = pd.concat([pd.Series(0), pd.Series(customer['c_id'].cumsum()[:-1])], axis=0).reset_index()[0]\n",
    "customer['birthday_this_year'] = customer['start_date'] + pd.to_timedelta(pd.np.ceil(customer.days_to_add), unit=\"D\")\n",
    "customer = customer[['c_id', 'Customer', 'birthday_this_year']]\n",
    "print(customer)"
   ]
  },
  {
   "cell_type": "code",
   "execution_count": 513,
   "metadata": {},
   "outputs": [
    {
     "name": "stdout",
     "output_type": "stream",
     "text": [
      "    c_id Customer birthday_this_year\n",
      "0      1     Rabi         2020-01-01\n",
      "1      2     Raju         2020-01-02\n",
      "2      3     Alex         2020-01-04\n",
      "3      4     Rani         2020-01-07\n",
      "4      5     King         2020-01-11\n",
      "5      7     Ronn         2020-01-16\n",
      "6      8      Jem         2020-01-23\n",
      "7      9      Tom         2020-01-31\n",
      "8     10    James         2020-07-28\n",
      "9     11     Bill         2020-04-05\n",
      "10    12    Susie         2020-11-25\n",
      "11    13     Emma         2020-06-14\n"
     ]
    },
    {
     "name": "stderr",
     "output_type": "stream",
     "text": [
      "<ipython-input-513-e40857672dbc>:13: FutureWarning: The pandas.np module is deprecated and will be removed from pandas in a future version. Import numpy directly instead\n",
      "  customer['birthday_this_year'] = customer['start_date'] + pd.to_timedelta(pd.np.ceil(customer.days_to_add), unit=\"D\")\n"
     ]
    }
   ],
   "source": [
    "# Q11: Make a dataframe for the new customer \n",
    "# pd.DataFrame({'c_id': [10, 11, 12, 13], 'Customer': ['James', 'Bill', 'Susie', 'Emma'], 'birthday_this_year': ['2020-07-28', '2020-04-05', '2020-11-25', '2020-06-14']})\n",
    "# and union this dataframe with the current customer dataframe. Ensure all column types are the same. Sort customers by c_id in ascending order and reset the index.\n",
    "import pandas as pd\n",
    "\n",
    "\n",
    "customer['start_date'] = '2020-01-01'\n",
    "customer['start_date'] = pd.to_datetime(customer['start_date'])\n",
    "customer['days_to_add'] = pd.concat([pd.Series(0), pd.Series(customer['c_id'].cumsum()[:-1])], axis=0).reset_index()[0]\n",
    "customer['birthday_this_year'] = customer['start_date'] + pd.to_timedelta(pd.np.ceil(customer.days_to_add), unit=\"D\")\n",
    "customer = customer[['c_id', 'Customer', 'birthday_this_year']]\n",
    "\n",
    "new_customers = pd.DataFrame({'c_id': [10, 11, 12, 13], 'Customer': ['James', 'Bill', 'Susie', 'Emma'], \n",
    "             'birthday_this_year': ['2020-07-28', '2020-04-05', '2020-11-25', '2020-06-14']})\n",
    "customers = pd.concat([new_customers, customer], axis = 0)\n",
    "customers['birthday_this_year'] = pd.to_datetime(customers['birthday_this_year'])\n",
    "customers = customers.sort_values(by = ['c_id']).reset_index()[['c_id', 'Customer', 'birthday_this_year']]\n",
    "print(customers)"
   ]
  },
  {
   "cell_type": "code",
   "execution_count": 515,
   "metadata": {},
   "outputs": [
    {
     "name": "stdout",
     "output_type": "stream",
     "text": [
      "   sale_id  c_id  p_id  product  qty store  qty_multiple_2\n",
      "0        1     2     3  Monitor    2   ABC               1\n",
      "1        2     2     4      CPU    1   DEF               0\n",
      "2        3     1     3  Monitor    3   ABC               0\n",
      "3        4     4     2      RAM    2   DEF               1\n",
      "4        5     2     3  Monitor    3   ABC               0\n",
      "5        6     3     3  Monitor    2   DEF               1\n",
      "6        7     2     2      RAM    3   ABC               0\n",
      "7        8     3     2      RAM    2   DEF               1\n",
      "8        9     2     3  Monitor    2   ABC               1\n"
     ]
    }
   ],
   "source": [
    "# Q12: Add an indicator column in the sales table called 'qty_multiple_2' where 1 indicates if the qty is a multiple of 2 and 0 otherwise.\n",
    "import pandas as pd\n",
    "\n",
    "\n",
    "sales['qty_multiple_2'] = np.select([sales['qty'] % 2 == 0], [1], default = 0)\n",
    "print(sales)"
   ]
  },
  {
   "cell_type": "code",
   "execution_count": 516,
   "metadata": {},
   "outputs": [
    {
     "name": "stdout",
     "output_type": "stream",
     "text": [
      "   c_id Customer   birthday_this_year  Age\n",
      "0    10    James           2020-07-28   24\n",
      "1    11     Bill           2020-04-05   29\n",
      "2    12    Susie           2020-11-25   42\n",
      "3    13     Emma           2020-06-14   35\n",
      "0     1     Rabi  2020-01-01 00:00:00   32\n",
      "1     2     Raju  2020-01-02 00:00:00   28\n",
      "2     3     Alex  2020-01-04 00:00:00   19\n",
      "3     4     Rani  2020-01-07 00:00:00   38\n",
      "4     5     King  2020-01-11 00:00:00   27\n",
      "5     7     Ronn  2020-01-16 00:00:00   29\n",
      "6     8      Jem  2020-01-23 00:00:00   34\n",
      "7     9      Tom  2020-01-31 00:00:00   25\n"
     ]
    }
   ],
   "source": [
    "# Q13: Create a column called Age in the new customers table where each customer has ages [24, 29, 42, 35, 32, 28, 19, 38, 27, 29, 34, 25].\n",
    "import pandas as pd\n",
    "\n",
    "\n",
    "\n",
    "customers['Age'] = [24, 29, 42, 35, 32, 28, 19, 38, 27, 29, 34, 25]\n",
    "print(customers)"
   ]
  },
  {
   "cell_type": "code",
   "execution_count": 518,
   "metadata": {},
   "outputs": [
    {
     "ename": "TypeError",
     "evalue": "cannot convert the series to <class 'int'>",
     "output_type": "error",
     "traceback": [
      "\u001b[0;31m---------------------------------------------------------------------------\u001b[0m",
      "\u001b[0;31mTypeError\u001b[0m                                 Traceback (most recent call last)",
      "\u001b[0;32m<ipython-input-518-7508fdbb5acc>\u001b[0m in \u001b[0;36m<module>\u001b[0;34m\u001b[0m\n\u001b[1;32m      8\u001b[0m \u001b[0mDOB\u001b[0m \u001b[0;34m=\u001b[0m \u001b[0;34m[\u001b[0m\u001b[0;34m]\u001b[0m\u001b[0;34m\u001b[0m\u001b[0;34m\u001b[0m\u001b[0m\n\u001b[1;32m      9\u001b[0m \u001b[0;32mfor\u001b[0m \u001b[0mi\u001b[0m \u001b[0;32min\u001b[0m \u001b[0mrange\u001b[0m\u001b[0;34m(\u001b[0m\u001b[0;36m0\u001b[0m\u001b[0;34m,\u001b[0m \u001b[0mlen\u001b[0m\u001b[0;34m(\u001b[0m\u001b[0mcustomers\u001b[0m\u001b[0;34m)\u001b[0m\u001b[0;34m)\u001b[0m\u001b[0;34m:\u001b[0m\u001b[0;34m\u001b[0m\u001b[0;34m\u001b[0m\u001b[0m\n\u001b[0;32m---> 10\u001b[0;31m     \u001b[0mcurrent_DOB\u001b[0m \u001b[0;34m=\u001b[0m \u001b[0mcustomers\u001b[0m\u001b[0;34m[\u001b[0m\u001b[0;34m'birthday_this_year'\u001b[0m\u001b[0;34m]\u001b[0m\u001b[0;34m[\u001b[0m\u001b[0mi\u001b[0m\u001b[0;34m]\u001b[0m \u001b[0;34m-\u001b[0m \u001b[0mpd\u001b[0m\u001b[0;34m.\u001b[0m\u001b[0mDateOffset\u001b[0m\u001b[0;34m(\u001b[0m\u001b[0myears\u001b[0m \u001b[0;34m=\u001b[0m \u001b[0mcustomers\u001b[0m\u001b[0;34m[\u001b[0m\u001b[0;34m'Age'\u001b[0m\u001b[0;34m]\u001b[0m\u001b[0;34m[\u001b[0m\u001b[0mi\u001b[0m\u001b[0;34m]\u001b[0m\u001b[0;34m)\u001b[0m\u001b[0;34m\u001b[0m\u001b[0;34m\u001b[0m\u001b[0m\n\u001b[0m\u001b[1;32m     11\u001b[0m     \u001b[0mDOB\u001b[0m\u001b[0;34m.\u001b[0m\u001b[0mappend\u001b[0m\u001b[0;34m(\u001b[0m\u001b[0mcurrent_DOB\u001b[0m\u001b[0;34m)\u001b[0m\u001b[0;34m\u001b[0m\u001b[0;34m\u001b[0m\u001b[0m\n\u001b[1;32m     12\u001b[0m \u001b[0;34m\u001b[0m\u001b[0m\n",
      "\u001b[0;32m~/opt/anaconda3/lib/python3.8/site-packages/pandas/tseries/offsets.py\u001b[0m in \u001b[0;36m__init__\u001b[0;34m(self, n, normalize, **kwds)\u001b[0m\n\u001b[1;32m    261\u001b[0m         \u001b[0mBaseOffset\u001b[0m\u001b[0;34m.\u001b[0m\u001b[0m__init__\u001b[0m\u001b[0;34m(\u001b[0m\u001b[0mself\u001b[0m\u001b[0;34m,\u001b[0m \u001b[0mn\u001b[0m\u001b[0;34m,\u001b[0m \u001b[0mnormalize\u001b[0m\u001b[0;34m)\u001b[0m\u001b[0;34m\u001b[0m\u001b[0;34m\u001b[0m\u001b[0m\n\u001b[1;32m    262\u001b[0m \u001b[0;34m\u001b[0m\u001b[0m\n\u001b[0;32m--> 263\u001b[0;31m         \u001b[0moff\u001b[0m\u001b[0;34m,\u001b[0m \u001b[0muse_rd\u001b[0m \u001b[0;34m=\u001b[0m \u001b[0mliboffsets\u001b[0m\u001b[0;34m.\u001b[0m\u001b[0m_determine_offset\u001b[0m\u001b[0;34m(\u001b[0m\u001b[0mkwds\u001b[0m\u001b[0;34m)\u001b[0m\u001b[0;34m\u001b[0m\u001b[0;34m\u001b[0m\u001b[0m\n\u001b[0m\u001b[1;32m    264\u001b[0m         \u001b[0mobject\u001b[0m\u001b[0;34m.\u001b[0m\u001b[0m__setattr__\u001b[0m\u001b[0;34m(\u001b[0m\u001b[0mself\u001b[0m\u001b[0;34m,\u001b[0m \u001b[0;34m\"_offset\"\u001b[0m\u001b[0;34m,\u001b[0m \u001b[0moff\u001b[0m\u001b[0;34m)\u001b[0m\u001b[0;34m\u001b[0m\u001b[0;34m\u001b[0m\u001b[0m\n\u001b[1;32m    265\u001b[0m         \u001b[0mobject\u001b[0m\u001b[0;34m.\u001b[0m\u001b[0m__setattr__\u001b[0m\u001b[0;34m(\u001b[0m\u001b[0mself\u001b[0m\u001b[0;34m,\u001b[0m \u001b[0;34m\"_use_relativedelta\"\u001b[0m\u001b[0;34m,\u001b[0m \u001b[0muse_rd\u001b[0m\u001b[0;34m)\u001b[0m\u001b[0;34m\u001b[0m\u001b[0;34m\u001b[0m\u001b[0m\n",
      "\u001b[0;32mpandas/_libs/tslibs/offsets.pyx\u001b[0m in \u001b[0;36mpandas._libs.tslibs.offsets._determine_offset\u001b[0;34m()\u001b[0m\n",
      "\u001b[0;32m~/opt/anaconda3/lib/python3.8/site-packages/dateutil/relativedelta.py\u001b[0m in \u001b[0;36m__init__\u001b[0;34m(self, dt1, dt2, years, months, days, leapdays, weeks, hours, minutes, seconds, microseconds, year, month, day, weekday, yearday, nlyearday, hour, minute, second, microsecond)\u001b[0m\n\u001b[1;32m    170\u001b[0m         \u001b[0;32melse\u001b[0m\u001b[0;34m:\u001b[0m\u001b[0;34m\u001b[0m\u001b[0;34m\u001b[0m\u001b[0m\n\u001b[1;32m    171\u001b[0m             \u001b[0;31m# Check for non-integer values in integer-only quantities\u001b[0m\u001b[0;34m\u001b[0m\u001b[0;34m\u001b[0m\u001b[0;34m\u001b[0m\u001b[0m\n\u001b[0;32m--> 172\u001b[0;31m             \u001b[0;32mif\u001b[0m \u001b[0many\u001b[0m\u001b[0;34m(\u001b[0m\u001b[0mx\u001b[0m \u001b[0;32mis\u001b[0m \u001b[0;32mnot\u001b[0m \u001b[0;32mNone\u001b[0m \u001b[0;32mand\u001b[0m \u001b[0mx\u001b[0m \u001b[0;34m!=\u001b[0m \u001b[0mint\u001b[0m\u001b[0;34m(\u001b[0m\u001b[0mx\u001b[0m\u001b[0;34m)\u001b[0m \u001b[0;32mfor\u001b[0m \u001b[0mx\u001b[0m \u001b[0;32min\u001b[0m \u001b[0;34m(\u001b[0m\u001b[0myears\u001b[0m\u001b[0;34m,\u001b[0m \u001b[0mmonths\u001b[0m\u001b[0;34m)\u001b[0m\u001b[0;34m)\u001b[0m\u001b[0;34m:\u001b[0m\u001b[0;34m\u001b[0m\u001b[0;34m\u001b[0m\u001b[0m\n\u001b[0m\u001b[1;32m    173\u001b[0m                 raise ValueError(\"Non-integer years and months are \"\n\u001b[1;32m    174\u001b[0m                                  \"ambiguous and not currently supported.\")\n",
      "\u001b[0;32m~/opt/anaconda3/lib/python3.8/site-packages/dateutil/relativedelta.py\u001b[0m in \u001b[0;36m<genexpr>\u001b[0;34m(.0)\u001b[0m\n\u001b[1;32m    170\u001b[0m         \u001b[0;32melse\u001b[0m\u001b[0;34m:\u001b[0m\u001b[0;34m\u001b[0m\u001b[0;34m\u001b[0m\u001b[0m\n\u001b[1;32m    171\u001b[0m             \u001b[0;31m# Check for non-integer values in integer-only quantities\u001b[0m\u001b[0;34m\u001b[0m\u001b[0;34m\u001b[0m\u001b[0;34m\u001b[0m\u001b[0m\n\u001b[0;32m--> 172\u001b[0;31m             \u001b[0;32mif\u001b[0m \u001b[0many\u001b[0m\u001b[0;34m(\u001b[0m\u001b[0mx\u001b[0m \u001b[0;32mis\u001b[0m \u001b[0;32mnot\u001b[0m \u001b[0;32mNone\u001b[0m \u001b[0;32mand\u001b[0m \u001b[0mx\u001b[0m \u001b[0;34m!=\u001b[0m \u001b[0mint\u001b[0m\u001b[0;34m(\u001b[0m\u001b[0mx\u001b[0m\u001b[0;34m)\u001b[0m \u001b[0;32mfor\u001b[0m \u001b[0mx\u001b[0m \u001b[0;32min\u001b[0m \u001b[0;34m(\u001b[0m\u001b[0myears\u001b[0m\u001b[0;34m,\u001b[0m \u001b[0mmonths\u001b[0m\u001b[0;34m)\u001b[0m\u001b[0;34m)\u001b[0m\u001b[0;34m:\u001b[0m\u001b[0;34m\u001b[0m\u001b[0;34m\u001b[0m\u001b[0m\n\u001b[0m\u001b[1;32m    173\u001b[0m                 raise ValueError(\"Non-integer years and months are \"\n\u001b[1;32m    174\u001b[0m                                  \"ambiguous and not currently supported.\")\n",
      "\u001b[0;32m~/opt/anaconda3/lib/python3.8/site-packages/pandas/core/series.py\u001b[0m in \u001b[0;36mwrapper\u001b[0;34m(self)\u001b[0m\n\u001b[1;32m    110\u001b[0m         \u001b[0;32mif\u001b[0m \u001b[0mlen\u001b[0m\u001b[0;34m(\u001b[0m\u001b[0mself\u001b[0m\u001b[0;34m)\u001b[0m \u001b[0;34m==\u001b[0m \u001b[0;36m1\u001b[0m\u001b[0;34m:\u001b[0m\u001b[0;34m\u001b[0m\u001b[0;34m\u001b[0m\u001b[0m\n\u001b[1;32m    111\u001b[0m             \u001b[0;32mreturn\u001b[0m \u001b[0mconverter\u001b[0m\u001b[0;34m(\u001b[0m\u001b[0mself\u001b[0m\u001b[0;34m.\u001b[0m\u001b[0miloc\u001b[0m\u001b[0;34m[\u001b[0m\u001b[0;36m0\u001b[0m\u001b[0;34m]\u001b[0m\u001b[0;34m)\u001b[0m\u001b[0;34m\u001b[0m\u001b[0;34m\u001b[0m\u001b[0m\n\u001b[0;32m--> 112\u001b[0;31m         \u001b[0;32mraise\u001b[0m \u001b[0mTypeError\u001b[0m\u001b[0;34m(\u001b[0m\u001b[0;34mf\"cannot convert the series to {converter}\"\u001b[0m\u001b[0;34m)\u001b[0m\u001b[0;34m\u001b[0m\u001b[0;34m\u001b[0m\u001b[0m\n\u001b[0m\u001b[1;32m    113\u001b[0m \u001b[0;34m\u001b[0m\u001b[0m\n\u001b[1;32m    114\u001b[0m     \u001b[0mwrapper\u001b[0m\u001b[0;34m.\u001b[0m\u001b[0m__name__\u001b[0m \u001b[0;34m=\u001b[0m \u001b[0;34mf\"__{converter.__name__}__\"\u001b[0m\u001b[0;34m\u001b[0m\u001b[0;34m\u001b[0m\u001b[0m\n",
      "\u001b[0;31mTypeError\u001b[0m: cannot convert the series to <class 'int'>"
     ]
    }
   ],
   "source": [
    "# Q14: Compute the date of birth for each customer.\n",
    "import pandas as pd\n",
    "\n",
    "\n",
    "DOB = []\n",
    "for i in range(0, len(customers)):\n",
    "    current_DOB = customers['birthday_this_year'][i] - pd.DateOffset(years = customers['Age'][i])\n",
    "    DOB.append(current_DOB)\n",
    "    \n",
    "customers['DOB'] = pd.Series(DOB)\n",
    "print(customers)"
   ]
  },
  {
   "cell_type": "code",
   "execution_count": 509,
   "metadata": {},
   "outputs": [
    {
     "ename": "ValueError",
     "evalue": "cannot convert float NaN to integer",
     "output_type": "error",
     "traceback": [
      "\u001b[0;31m---------------------------------------------------------------------------\u001b[0m",
      "\u001b[0;31mValueError\u001b[0m                                Traceback (most recent call last)",
      "\u001b[0;32m<ipython-input-509-ba32b8dde380>\u001b[0m in \u001b[0;36m<module>\u001b[0;34m\u001b[0m\n\u001b[1;32m     17\u001b[0m \u001b[0;34m\u001b[0m\u001b[0m\n\u001b[1;32m     18\u001b[0m \u001b[0;34m\u001b[0m\u001b[0m\n\u001b[0;32m---> 19\u001b[0;31m \u001b[0mcustomers\u001b[0m\u001b[0;34m[\u001b[0m\u001b[0;34m'star_sign'\u001b[0m\u001b[0;34m]\u001b[0m \u001b[0;34m=\u001b[0m \u001b[0mcustomers\u001b[0m\u001b[0;34m[\u001b[0m\u001b[0;34m'DOB'\u001b[0m\u001b[0;34m]\u001b[0m\u001b[0;34m.\u001b[0m\u001b[0mapply\u001b[0m\u001b[0;34m(\u001b[0m\u001b[0mget_zodiac_of_date\u001b[0m\u001b[0;34m)\u001b[0m\u001b[0;34m\u001b[0m\u001b[0;34m\u001b[0m\u001b[0m\n\u001b[0m\u001b[1;32m     20\u001b[0m \u001b[0mprint\u001b[0m\u001b[0;34m(\u001b[0m\u001b[0mcustomers\u001b[0m\u001b[0;34m)\u001b[0m\u001b[0;34m\u001b[0m\u001b[0;34m\u001b[0m\u001b[0m\n",
      "\u001b[0;32m~/opt/anaconda3/lib/python3.8/site-packages/pandas/core/series.py\u001b[0m in \u001b[0;36mapply\u001b[0;34m(self, func, convert_dtype, args, **kwds)\u001b[0m\n\u001b[1;32m   3846\u001b[0m             \u001b[0;32melse\u001b[0m\u001b[0;34m:\u001b[0m\u001b[0;34m\u001b[0m\u001b[0;34m\u001b[0m\u001b[0m\n\u001b[1;32m   3847\u001b[0m                 \u001b[0mvalues\u001b[0m \u001b[0;34m=\u001b[0m \u001b[0mself\u001b[0m\u001b[0;34m.\u001b[0m\u001b[0mastype\u001b[0m\u001b[0;34m(\u001b[0m\u001b[0mobject\u001b[0m\u001b[0;34m)\u001b[0m\u001b[0;34m.\u001b[0m\u001b[0mvalues\u001b[0m\u001b[0;34m\u001b[0m\u001b[0;34m\u001b[0m\u001b[0m\n\u001b[0;32m-> 3848\u001b[0;31m                 \u001b[0mmapped\u001b[0m \u001b[0;34m=\u001b[0m \u001b[0mlib\u001b[0m\u001b[0;34m.\u001b[0m\u001b[0mmap_infer\u001b[0m\u001b[0;34m(\u001b[0m\u001b[0mvalues\u001b[0m\u001b[0;34m,\u001b[0m \u001b[0mf\u001b[0m\u001b[0;34m,\u001b[0m \u001b[0mconvert\u001b[0m\u001b[0;34m=\u001b[0m\u001b[0mconvert_dtype\u001b[0m\u001b[0;34m)\u001b[0m\u001b[0;34m\u001b[0m\u001b[0;34m\u001b[0m\u001b[0m\n\u001b[0m\u001b[1;32m   3849\u001b[0m \u001b[0;34m\u001b[0m\u001b[0m\n\u001b[1;32m   3850\u001b[0m         \u001b[0;32mif\u001b[0m \u001b[0mlen\u001b[0m\u001b[0;34m(\u001b[0m\u001b[0mmapped\u001b[0m\u001b[0;34m)\u001b[0m \u001b[0;32mand\u001b[0m \u001b[0misinstance\u001b[0m\u001b[0;34m(\u001b[0m\u001b[0mmapped\u001b[0m\u001b[0;34m[\u001b[0m\u001b[0;36m0\u001b[0m\u001b[0;34m]\u001b[0m\u001b[0;34m,\u001b[0m \u001b[0mSeries\u001b[0m\u001b[0;34m)\u001b[0m\u001b[0;34m:\u001b[0m\u001b[0;34m\u001b[0m\u001b[0;34m\u001b[0m\u001b[0m\n",
      "\u001b[0;32mpandas/_libs/lib.pyx\u001b[0m in \u001b[0;36mpandas._libs.lib.map_infer\u001b[0;34m()\u001b[0m\n",
      "\u001b[0;32m<ipython-input-509-ba32b8dde380>\u001b[0m in \u001b[0;36mget_zodiac_of_date\u001b[0;34m(date)\u001b[0m\n\u001b[1;32m     11\u001b[0m \u001b[0;34m\u001b[0m\u001b[0m\n\u001b[1;32m     12\u001b[0m \u001b[0;32mdef\u001b[0m \u001b[0mget_zodiac_of_date\u001b[0m\u001b[0;34m(\u001b[0m\u001b[0mdate\u001b[0m\u001b[0;34m)\u001b[0m\u001b[0;34m:\u001b[0m\u001b[0;34m\u001b[0m\u001b[0;34m\u001b[0m\u001b[0m\n\u001b[0;32m---> 13\u001b[0;31m     \u001b[0mdate_number\u001b[0m \u001b[0;34m=\u001b[0m \u001b[0mint\u001b[0m\u001b[0;34m(\u001b[0m\u001b[0;34m\"\"\u001b[0m\u001b[0;34m.\u001b[0m\u001b[0mjoin\u001b[0m\u001b[0;34m(\u001b[0m\u001b[0;34m(\u001b[0m\u001b[0mstr\u001b[0m\u001b[0;34m(\u001b[0m\u001b[0mdate\u001b[0m\u001b[0;34m.\u001b[0m\u001b[0mdate\u001b[0m\u001b[0;34m(\u001b[0m\u001b[0;34m)\u001b[0m\u001b[0;34m.\u001b[0m\u001b[0mmonth\u001b[0m\u001b[0;34m)\u001b[0m\u001b[0;34m,\u001b[0m \u001b[0;34m'%02d'\u001b[0m \u001b[0;34m%\u001b[0m \u001b[0mdate\u001b[0m\u001b[0;34m.\u001b[0m\u001b[0mdate\u001b[0m\u001b[0;34m(\u001b[0m\u001b[0;34m)\u001b[0m\u001b[0;34m.\u001b[0m\u001b[0mday\u001b[0m\u001b[0;34m)\u001b[0m\u001b[0;34m)\u001b[0m\u001b[0;34m)\u001b[0m\u001b[0;34m\u001b[0m\u001b[0;34m\u001b[0m\u001b[0m\n\u001b[0m\u001b[1;32m     14\u001b[0m     \u001b[0;32mfor\u001b[0m \u001b[0mz\u001b[0m \u001b[0;32min\u001b[0m \u001b[0mzodiacs\u001b[0m\u001b[0;34m:\u001b[0m\u001b[0;34m\u001b[0m\u001b[0;34m\u001b[0m\u001b[0m\n\u001b[1;32m     15\u001b[0m         \u001b[0;32mif\u001b[0m \u001b[0mdate_number\u001b[0m \u001b[0;34m<=\u001b[0m \u001b[0mz\u001b[0m\u001b[0;34m[\u001b[0m\u001b[0;36m0\u001b[0m\u001b[0;34m]\u001b[0m\u001b[0;34m:\u001b[0m\u001b[0;34m\u001b[0m\u001b[0;34m\u001b[0m\u001b[0m\n",
      "\u001b[0;31mValueError\u001b[0m: cannot convert float NaN to integer"
     ]
    }
   ],
   "source": [
    "# Q15: In the most recent customer table, assign a column which tells us which astrology star sign each customer is.\n",
    "import pandas as pd\n",
    "\n",
    "\n",
    "zodiacs = [(120, 'Cap'), (218, 'Aqu'), (320, 'Pis'), (420, 'Ari'), (521, 'Tau'),\n",
    "           (621, 'Gem'), (722, 'Can'), (823, 'Leo'), (923, 'Vir'), (1023, 'Lib'),\n",
    "           (1122, 'Sco'), (1222, 'Sag'), (1231, 'Cap')]\n",
    "\n",
    "def get_zodiac_of_date(date):\n",
    "    date_number = int(\"\".join((str(date.date().month), '%02d' % date.date().day)))\n",
    "    for z in zodiacs:\n",
    "        if date_number <= z[0]:\n",
    "            return z[1]\n",
    "\n",
    "\n",
    "customers['star_sign'] = customers['DOB'].apply(get_zodiac_of_date)\n",
    "print(customers)"
   ]
  },
  {
   "cell_type": "code",
   "execution_count": 519,
   "metadata": {},
   "outputs": [
    {
     "name": "stdout",
     "output_type": "stream",
     "text": [
      "   height  width   area\n",
      "0    40.0     10  400.0\n",
      "1    20.0      9  180.0\n",
      "2     3.4      4   13.6\n"
     ]
    }
   ],
   "source": [
    "# Q16: Consider the rectangles dataset, read it in, compute the area of each rectangle and save the file to CSV called 'rectangles_new'.\n",
    "import pandas as pd\n",
    "\n",
    "\n",
    "rectangles = pd.read_csv('rectangles_old.csv')\n",
    "\n",
    "def calculate_area(row):\n",
    "    return row['height'] * row['width']\n",
    "\n",
    "rectangles['area'] = rectangles.apply(calculate_area, axis=1)\n",
    "print(rectangles)\n",
    "# rectangles.to_csv('rectangles_new.csv')"
   ]
  },
  {
   "cell_type": "code",
   "execution_count": null,
   "metadata": {},
   "outputs": [],
   "source": []
  },
  {
   "cell_type": "code",
   "execution_count": null,
   "metadata": {},
   "outputs": [],
   "source": []
  }
 ],
 "metadata": {
  "kernelspec": {
   "display_name": "Python 3",
   "language": "python",
   "name": "python3"
  },
  "language_info": {
   "codemirror_mode": {
    "name": "ipython",
    "version": 3
   },
   "file_extension": ".py",
   "mimetype": "text/x-python",
   "name": "python",
   "nbconvert_exporter": "python",
   "pygments_lexer": "ipython3",
   "version": "3.8.3"
  }
 },
 "nbformat": 4,
 "nbformat_minor": 4
}
